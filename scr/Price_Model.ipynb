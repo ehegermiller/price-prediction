{
 "cells": [
  {
   "cell_type": "code",
   "execution_count": 46,
   "id": "1702fe6c",
   "metadata": {},
   "outputs": [],
   "source": [
    "import pandas as pd\n",
    "from sklearn.metrics import mean_squared_error as mse # rsme = mean_squared_error(y_true, y_pred, squared=False)\n",
    "from sklearn.linear_model import Ridge\n",
    "from sklearn.linear_model import RidgeCV as rcv\n",
    "import sklearn.preprocessing as pp\n",
    "import numpy as np\n",
    "from joblib import parallel_backend"
   ]
  },
  {
   "cell_type": "code",
   "execution_count": 47,
   "id": "f8ec23ae",
   "metadata": {},
   "outputs": [],
   "source": [
    "#importing and reading the csv\n",
    "directory = 'C:\\\\Users\\\\Emma Hegermiller\\\\Git\\\\price-prediction\\\\data'\n",
    "\n",
    "df_train = pd.read_csv(directory + '\\\\train.csv').drop(columns=['Unnamed: 0'])\n",
    "df_test = pd.read_csv(directory + '\\\\test.csv').drop(columns=['Unnamed: 0'])"
   ]
  },
  {
   "cell_type": "code",
   "execution_count": 48,
   "id": "1b2cba1f",
   "metadata": {},
   "outputs": [
    {
     "name": "stdout",
     "output_type": "stream",
     "text": [
      "Train columns: \n",
      "is_cpo                          int64\n",
      "seller_is_franchise_dealer      int64\n",
      "seller_is_online_only           int64\n",
      "seller_ships_nationwide         int64\n",
      "mileage_normalized            float64\n",
      "                               ...   \n",
      "seller_city_Williamsburg        int64\n",
      "seller_city_Winchester          int64\n",
      "seller_city_Wytheville          int64\n",
      "seller_state_IA                 int64\n",
      "seller_state_ME                 int64\n",
      "Length: 690, dtype: object\n",
      "Test missing: \n",
      "245\n",
      "Train missing: \n",
      "205\n"
     ]
    }
   ],
   "source": [
    "X_train = df_train.drop(columns = [\"list_price\", \"mileage\", \"accident_count\", \n",
    "                                   \"fuel_economy_city\", \"fuel_economy_highway\", \"msrp\"])\n",
    "X_test = df_test.drop(columns = [\"list_price\", \"mileage\", \"accident_count\", \n",
    "                                   \"fuel_economy_city\", \"fuel_economy_highway\", \"msrp\"])\n",
    "y_train = df_train.list_price\n",
    "y_test = df_test.list_price\n",
    "\n",
    "test_missing = []\n",
    "for col in X_train.columns:\n",
    "    if col not in X_test.columns:\n",
    "        test_missing.append(col)\n",
    "    else:\n",
    "        pass\n",
    "\n",
    "train_missing = []\n",
    "for col in X_test.columns:\n",
    "    if col not in X_train.columns:\n",
    "        train_missing.append(col)\n",
    "    else:\n",
    "        pass\n",
    "\n",
    "test_add = pd.DataFrame(columns=test_missing)\n",
    "X_test = X_test.join(test_add).fillna(0)\n",
    "\n",
    "train_add = pd.DataFrame(columns=train_missing)\n",
    "X_train = X_train.join(train_add).fillna(0)\n",
    "   \n",
    "pd.set_option('display.max_rows', 500)\n",
    "\n",
    "print(\"Train columns: \\n{}\".format(X_train.dtypes))\n",
    "print(\"Test missing: \\n{}\".format(len(test_missing)))\n",
    "print(\"Train missing: \\n{}\".format(len(train_missing)))\n"
   ]
  },
  {
   "cell_type": "code",
   "execution_count": 49,
   "id": "78318a10",
   "metadata": {},
   "outputs": [],
   "source": [
    "# Ridge Regression Train\n",
    "with parallel_backend('threading', n_jobs=8):\n",
    "    ridge = rcv(cv=3).fit(X_train, y_train)\n",
    "    ridge_params = ridge.get_params()\n",
    "    r_squared = ridge.score(X_train, y_train)\n",
    "    y_train_pred = ridge.predict(X_train)\n",
    "    rmse_train = mse(y_train, y_train_pred, squared = False)"
   ]
  },
  {
   "cell_type": "code",
   "execution_count": 50,
   "id": "7457ecbf",
   "metadata": {},
   "outputs": [],
   "source": [
    "# Ridge Regression Test\n",
    "with parallel_backend('threading', n_jobs=8):\n",
    "    y_test_pred = ridge.predict(X_test)\n",
    "    rmse_test = mse(y_test, y_test_pred, squared = False)"
   ]
  },
  {
   "cell_type": "code",
   "execution_count": 45,
   "id": "5cdb1562",
   "metadata": {},
   "outputs": [
    {
     "name": "stdout",
     "output_type": "stream",
     "text": [
      "Ridge Regression Parameters: {'alpha_per_target': False, 'alphas': array([ 0.1,  1. , 10. ]), 'cv': 3, 'fit_intercept': True, 'gcv_mode': None, 'normalize': False, 'scoring': None, 'store_cv_values': False}\n",
      "Ridge Train R^2: 0.9988431926361353\n",
      "Ridge Train RMSE: 24.298963418192265\n",
      "Ridge Test RMSE: 2001.6773053833676\n"
     ]
    }
   ],
   "source": [
    "# Model results\n",
    "print(\"Ridge Regression Parameters: {}\".format(ridge_params))\n",
    "print(\"Ridge Train R^2: {}\".format(r_squared))\n",
    "print(\"Ridge Train RMSE: {}\".format(rmse_train))\n",
    "print(\"Ridge Test RMSE: {}\".format(rmse_test))"
   ]
  }
 ],
 "metadata": {
  "kernelspec": {
   "display_name": "Python 3 (ipykernel)",
   "language": "python",
   "name": "python3"
  },
  "language_info": {
   "codemirror_mode": {
    "name": "ipython",
    "version": 3
   },
   "file_extension": ".py",
   "mimetype": "text/x-python",
   "name": "python",
   "nbconvert_exporter": "python",
   "pygments_lexer": "ipython3",
   "version": "3.9.7"
  }
 },
 "nbformat": 4,
 "nbformat_minor": 5
}
